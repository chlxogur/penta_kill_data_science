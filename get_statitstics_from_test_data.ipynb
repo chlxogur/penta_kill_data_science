{
 "cells": [
  {
   "cell_type": "code",
   "execution_count": 8,
   "metadata": {},
   "outputs": [],
   "source": [
    "import pandas as pd\n",
    "import seaborn\n",
    "import datetime"
   ]
  },
  {
   "cell_type": "code",
   "execution_count": 2,
   "metadata": {},
   "outputs": [],
   "source": [
    "df = pd.read_excel(\"../data/result_of_test_data_of_model_draft_5_7_1_2.xlsx\", dtype = {\"gameId\": \"str\"}, index_col=0)"
   ]
  },
  {
   "cell_type": "code",
   "execution_count": 3,
   "metadata": {},
   "outputs": [
    {
     "data": {
      "text/html": [
       "<div>\n",
       "<style scoped>\n",
       "    .dataframe tbody tr th:only-of-type {\n",
       "        vertical-align: middle;\n",
       "    }\n",
       "\n",
       "    .dataframe tbody tr th {\n",
       "        vertical-align: top;\n",
       "    }\n",
       "\n",
       "    .dataframe thead th {\n",
       "        text-align: right;\n",
       "    }\n",
       "</style>\n",
       "<table border=\"1\" class=\"dataframe\">\n",
       "  <thead>\n",
       "    <tr style=\"text-align: right;\">\n",
       "      <th></th>\n",
       "      <th>startTime(match)</th>\n",
       "      <th>gameId</th>\n",
       "      <th>winner_side</th>\n",
       "      <th>winrate_blue</th>\n",
       "      <th>winrate_red</th>\n",
       "      <th>Predicted</th>\n",
       "      <th>Corrected</th>\n",
       "    </tr>\n",
       "  </thead>\n",
       "  <tbody>\n",
       "    <tr>\n",
       "      <th>692.0</th>\n",
       "      <td>2023-01-16 17:00:00</td>\n",
       "      <td>109467087407753208</td>\n",
       "      <td>Blue</td>\n",
       "      <td>0.595465</td>\n",
       "      <td>0.404535</td>\n",
       "      <td>Blue</td>\n",
       "      <td>Yes</td>\n",
       "    </tr>\n",
       "    <tr>\n",
       "      <th>693.0</th>\n",
       "      <td>2023-01-16 18:00:00</td>\n",
       "      <td>109467087407687600</td>\n",
       "      <td>Blue</td>\n",
       "      <td>0.851442</td>\n",
       "      <td>0.148558</td>\n",
       "      <td>Blue</td>\n",
       "      <td>Yes</td>\n",
       "    </tr>\n",
       "    <tr>\n",
       "      <th>694.0</th>\n",
       "      <td>2023-01-16 19:00:00</td>\n",
       "      <td>109467087407753220</td>\n",
       "      <td>Blue</td>\n",
       "      <td>0.529219</td>\n",
       "      <td>0.470781</td>\n",
       "      <td>Blue</td>\n",
       "      <td>Yes</td>\n",
       "    </tr>\n",
       "    <tr>\n",
       "      <th>695.0</th>\n",
       "      <td>2023-01-16 20:00:00</td>\n",
       "      <td>109467087407687620</td>\n",
       "      <td>Red</td>\n",
       "      <td>0.638726</td>\n",
       "      <td>0.361274</td>\n",
       "      <td>Blue</td>\n",
       "      <td>No</td>\n",
       "    </tr>\n",
       "    <tr>\n",
       "      <th>696.0</th>\n",
       "      <td>2023-01-16 21:00:00</td>\n",
       "      <td>109467087407687650</td>\n",
       "      <td>Red</td>\n",
       "      <td>0.750429</td>\n",
       "      <td>0.249571</td>\n",
       "      <td>Blue</td>\n",
       "      <td>No</td>\n",
       "    </tr>\n",
       "  </tbody>\n",
       "</table>\n",
       "</div>"
      ],
      "text/plain": [
       "         startTime(match)              gameId winner_side  winrate_blue  \\\n",
       "692.0 2023-01-16 17:00:00  109467087407753208        Blue      0.595465   \n",
       "693.0 2023-01-16 18:00:00  109467087407687600        Blue      0.851442   \n",
       "694.0 2023-01-16 19:00:00  109467087407753220        Blue      0.529219   \n",
       "695.0 2023-01-16 20:00:00  109467087407687620         Red      0.638726   \n",
       "696.0 2023-01-16 21:00:00  109467087407687650         Red      0.750429   \n",
       "\n",
       "       winrate_red Predicted Corrected  \n",
       "692.0     0.404535      Blue       Yes  \n",
       "693.0     0.148558      Blue       Yes  \n",
       "694.0     0.470781      Blue       Yes  \n",
       "695.0     0.361274      Blue        No  \n",
       "696.0     0.249571      Blue        No  "
      ]
     },
     "execution_count": 3,
     "metadata": {},
     "output_type": "execute_result"
    }
   ],
   "source": [
    "df = df.iloc[:, :7]\n",
    "df.head()"
   ]
  },
  {
   "cell_type": "code",
   "execution_count": 4,
   "metadata": {},
   "outputs": [],
   "source": [
    "df.set_index(\"startTime(match)\", inplace=True)"
   ]
  },
  {
   "cell_type": "code",
   "execution_count": 5,
   "metadata": {},
   "outputs": [],
   "source": [
    "monthly_groups = df.groupby(pd.Grouper(freq='ME'))"
   ]
  },
  {
   "cell_type": "code",
   "execution_count": 22,
   "metadata": {},
   "outputs": [
    {
     "name": "stdout",
     "output_type": "stream",
     "text": [
      "Month : 2023-01\n",
      "test data amount : 104\n",
      "Rate : 64.4231%\n",
      "\n",
      "\n",
      "Month : 2023-02\n",
      "test data amount : 193\n",
      "Rate : 65.8031%\n",
      "\n",
      "\n",
      "Month : 2023-03\n",
      "test data amount : 122\n",
      "Rate : 68.0328%\n",
      "\n",
      "\n",
      "Month : 2023-04\n",
      "test data amount : 31\n",
      "Rate : 64.5161%\n",
      "\n",
      "\n",
      "Month : 2023-05\n",
      "test data amount : 14\n",
      "Rate : 92.8571%\n",
      "\n",
      "\n",
      "Month : 2023-06\n",
      "test data amount : 202\n",
      "Rate : 74.2574%\n",
      "\n",
      "\n",
      "Month : 2023-07\n",
      "test data amount : 110\n",
      "Rate : 80.9091%\n",
      "\n",
      "\n",
      "Month : 2023-08\n",
      "test data amount : 41\n",
      "Rate : 73.1707%\n",
      "\n",
      "\n",
      "Month : 2024-01\n",
      "test data amount : 59\n",
      "Rate : 83.0508%\n",
      "\n",
      "\n",
      "Month : 2024-02\n",
      "test data amount : 119\n",
      "Rate : 80.6723%\n",
      "\n",
      "\n"
     ]
    }
   ],
   "source": [
    "for month, group in monthly_groups:\n",
    "    if group.shape[0] != 0:\n",
    "        print(f\"Month : {month.year}-{month.month:02d}\")\n",
    "        print(f\"test data amount : {group.shape[0]}\")\n",
    "        #print(group)\n",
    "        value_counts = group[\"Corrected\"].value_counts()\n",
    "        if value_counts.get(\"No\"):\n",
    "            rate = value_counts.get(\"Yes\", 0) / (value_counts.get(\"Yes\", 0) + value_counts.get(\"No\", 0))\n",
    "        else:\n",
    "            rate = 0\n",
    "        print(f\"Rate : {(rate*100):.4f}%\")\n",
    "        print(\"\\n\")"
   ]
  }
 ],
 "metadata": {
  "kernelspec": {
   "display_name": "newdeal",
   "language": "python",
   "name": "python3"
  },
  "language_info": {
   "codemirror_mode": {
    "name": "ipython",
    "version": 3
   },
   "file_extension": ".py",
   "mimetype": "text/x-python",
   "name": "python",
   "nbconvert_exporter": "python",
   "pygments_lexer": "ipython3",
   "version": "3.12.3"
  }
 },
 "nbformat": 4,
 "nbformat_minor": 2
}
