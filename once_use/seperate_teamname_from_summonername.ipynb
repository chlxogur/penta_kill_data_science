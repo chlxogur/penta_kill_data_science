{
  "cells": [
    {
      "cell_type": "markdown",
      "metadata": {},
      "source": [
        "코랩에서 돌렸습니다."
      ]
    },
    {
      "cell_type": "code",
      "execution_count": 7,
      "metadata": {
        "colab": {
          "base_uri": "https://localhost:8080/"
        },
        "id": "Xu9qqP80tikm",
        "outputId": "fe7f0ea1-d559-47a4-b86e-57b071b5a09a"
      },
      "outputs": [],
      "source": [
        "#from google.colab import drive\n",
        "#drive.mount('/content/drive')"
      ]
    },
    {
      "cell_type": "code",
      "execution_count": 8,
      "metadata": {
        "id": "ImhuIf_utVQh"
      },
      "outputs": [],
      "source": [
        "import pandas as pd\n",
        "import os\n",
        "from tqdm import tqdm\n",
        "\n",
        "\n",
        "# 팀명과 소환사명이 공백 없이 붙어서 나와 문제가 생긴 데이터들이 일부 있습니다. 그걸 팀명과 소환사명으로 분리하기 위한 코드입니다.\n",
        "# 각 팀 5명의 선수에 대해 공통적으로 앞에 붙은 문자열은 팀명으로 간주합니다.\n",
        "# 일치하는 부분이 없으면 \"\", 0을 리턴합니다. 파라미터가 문자열이 아니면 \"\", -1을 리턴합니다.\n",
        "\n",
        "def find_common_prefix(strings):\n",
        "    if not strings:\n",
        "        return \"\", -1\n",
        "\n",
        "    # 짧은 문자 찾기\n",
        "    shortest = min(strings, key=len)\n",
        "\n",
        "    # 짧은 문자의 가장 긴 것으로 max값을 잡아 놓고\n",
        "    end_index = len(shortest)\n",
        "\n",
        "    for i in range(len(shortest)):  # 문자열의 첫 글자부터\n",
        "        current_char = shortest[i]\n",
        "        for string in strings:\n",
        "            if string[i] != current_char:\n",
        "                end_index = i\n",
        "                break\n",
        "        if end_index != len(shortest):\n",
        "            break\n",
        "\n",
        "    common_prefix = shortest[:end_index]\n",
        "    return common_prefix, end_index"
      ]
    },
    {
      "cell_type": "code",
      "execution_count": 9,
      "metadata": {
        "id": "C6v2rCDLtgn3"
      },
      "outputs": [],
      "source": [
        "#COLLECTED_DATA_PATH = \"/content/drive/MyDrive/penta_kill/data science/collected_game_data/\"\n",
        "COLLECTED_DATA_PATH = \"../../data/collected_data/\"\n",
        "#COLLECTED_DATA_PATH = \"../../data/collected_data_test/\"\n",
        "file_list = os.listdir(COLLECTED_DATA_PATH)"
      ]
    },
    {
      "cell_type": "code",
      "execution_count": 10,
      "metadata": {
        "colab": {
          "base_uri": "https://localhost:8080/",
          "height": 35
        },
        "id": "KP7mtqr9RQNN",
        "outputId": "222eede2-f0fc-4495-9d5b-e30f7e46af5b"
      },
      "outputs": [],
      "source": [
        "#file_list[221]  # 이름이 500이라 버그난곳"
      ]
    },
    {
      "cell_type": "code",
      "execution_count": 11,
      "metadata": {
        "colab": {
          "base_uri": "https://localhost:8080/"
        },
        "id": "nBrRm_ELuRpg",
        "outputId": "dc6c6bf1-77bd-4bcd-d941-09ec0ae8e4c1"
      },
      "outputs": [
        {
          "name": "stderr",
          "output_type": "stream",
          "text": [
            "  0%|          | 0/1071 [00:00<?, ?it/s]"
          ]
        },
        {
          "name": "stderr",
          "output_type": "stream",
          "text": [
            "100%|██████████| 1071/1071 [17:37<00:00,  1.01it/s]"
          ]
        },
        {
          "name": "stdout",
          "output_type": "stream",
          "text": [
            "0 files is fixed!\n"
          ]
        },
        {
          "name": "stderr",
          "output_type": "stream",
          "text": [
            "\n"
          ]
        }
      ],
      "source": [
        "PARTICIPANTS_NUMBER_OF_A_TEAM = 5\n",
        "\n",
        "count = 0\n",
        "\n",
        "for file in tqdm(file_list):\n",
        "  blueSummonerNames = []\n",
        "  redSummonerNames = []\n",
        "  needed = True\n",
        "  if file.find(\"_invalid\") == -1 and file.find(\".xlsx\") != -1:\n",
        "    df = pd.read_excel(COLLECTED_DATA_PATH + file)\n",
        "    df = df.astype({\"esportsTeamId_Blue\":\"str\", \"esportsTeamId_Red\":\"str\", \"esportsPlayerId_0\":\"str\", \"esportsPlayerId_1\":\"str\", \"esportsPlayerId_2\":\"str\", \"esportsPlayerId_3\":\"str\", \"esportsPlayerId_4\":\"str\", \"esportsPlayerId_5\":\"str\", \"esportsPlayerId_6\":\"str\", \"esportsPlayerId_7\":\"str\", \"esportsPlayerId_8\":\"str\", \"esportsPlayerId_9\":\"str\"})\n",
        "\n",
        "    for i in range(PARTICIPANTS_NUMBER_OF_A_TEAM):\n",
        "      blueteam = str(df.at[0, f\"teamCode_{i}\"])\n",
        "      bluename = str(df.at[0, f\"summonerName_{i}\"])\n",
        "      redteam = str(df.at[0, f\"teamCode_{i + PARTICIPANTS_NUMBER_OF_A_TEAM}\"])\n",
        "      redname = str(df.at[0, f\"summonerName_{i+PARTICIPANTS_NUMBER_OF_A_TEAM}\"])\n",
        "      if len(blueteam) == 0 or len(bluename) == 0 or len(redteam) == 0 or len(redname) == 0:    # 플레이어 이름이 숫자라 int64타입으로 오는 녀석도 있음 (i.e. 500 걍 이름이 500임)\n",
        "        needed = False\n",
        "        continue\n",
        "      if blueteam != bluename[:-1]: needed = False\n",
        "      blueSummonerNames.append(bluename)\n",
        "\n",
        "      if redteam != redname[:-1]: needed = False\n",
        "      redSummonerNames.append(redname)\n",
        "\n",
        "    if needed == True:\n",
        "      count += 1\n",
        "      print(file, \"is needed\")\n",
        "      blueteamName, blueteamWhere = find_common_prefix(blueSummonerNames)\n",
        "      redteamName, redteamWhere = find_common_prefix(redSummonerNames)\n",
        "\n",
        "      for i in range(PARTICIPANTS_NUMBER_OF_A_TEAM):\n",
        "        if blueteamWhere > 0:\n",
        "          df[f\"teamCode_{i}\"] = blueteamName\n",
        "          df[f\"summonerName_{i}\"] = df[f\"summonerName_{i}\"].apply(lambda x : x[redteamWhere:])\n",
        "        if redteamWhere > 0:\n",
        "          df[f\"teamCode_{i+PARTICIPANTS_NUMBER_OF_A_TEAM}\"] = redteamName\n",
        "          df[f\"summonerName_{i+PARTICIPANTS_NUMBER_OF_A_TEAM}\"] = df[f\"summonerName_{i+PARTICIPANTS_NUMBER_OF_A_TEAM}\"].apply(lambda x : x[redteamWhere:])\n",
        "      df.to_excel(COLLECTED_DATA_PATH + file)\n",
        "print(count, \"files is fixed!\")"
      ]
    }
  ],
  "metadata": {
    "colab": {
      "provenance": []
    },
    "kernelspec": {
      "display_name": "Python 3",
      "name": "python3"
    },
    "language_info": {
      "codemirror_mode": {
        "name": "ipython",
        "version": 3
      },
      "file_extension": ".py",
      "mimetype": "text/x-python",
      "name": "python",
      "nbconvert_exporter": "python",
      "pygments_lexer": "ipython3",
      "version": "3.12.3"
    }
  },
  "nbformat": 4,
  "nbformat_minor": 0
}
