{
 "cells": [
  {
   "cell_type": "code",
   "execution_count": 2,
   "metadata": {},
   "outputs": [],
   "source": [
    "from requestWithHandlingHttperr import requestWithHandlingHttperr\n",
    "import json\n",
    "import pandas as pd"
   ]
  },
  {
   "cell_type": "code",
   "execution_count": 3,
   "metadata": {},
   "outputs": [],
   "source": [
    "league_list = []"
   ]
  },
  {
   "cell_type": "code",
   "execution_count": 4,
   "metadata": {},
   "outputs": [],
   "source": [
    "headers = {\n",
    "        \"x-api-key\" : \"0TvQnueqKa5mxJntVWt0w4LpLfEkrV1Ta8rQBb9Z\",\n",
    "        'user-agent': 'Mozilla/5.0 (Windows NT 10.0; Win64; x64) AppleWebKit/537.36 (KHTML, like Gecko) Chrome/86.0.4240.75 Safari/537.36'\n",
    "    }\n",
    "response = requestWithHandlingHttperr(\"https://prod-relapi.ewp.gg/persisted/gw/getLeagues?hl=en-US\", headers = headers)\n",
    "json = response.json()\n",
    "if 'data' in json and len(json['data']) > 0:\n",
    "    leagues = json[\"data\"][\"leagues\"]\n",
    "    for league in leagues:\n",
    "        league_list.append(str(league[\"id\"]))"
   ]
  },
  {
   "cell_type": "code",
   "execution_count": 5,
   "metadata": {},
   "outputs": [
    {
     "data": {
      "text/html": [
       "<div>\n",
       "<style scoped>\n",
       "    .dataframe tbody tr th:only-of-type {\n",
       "        vertical-align: middle;\n",
       "    }\n",
       "\n",
       "    .dataframe tbody tr th {\n",
       "        vertical-align: top;\n",
       "    }\n",
       "\n",
       "    .dataframe thead th {\n",
       "        text-align: right;\n",
       "    }\n",
       "</style>\n",
       "<table border=\"1\" class=\"dataframe\">\n",
       "  <thead>\n",
       "    <tr style=\"text-align: right;\">\n",
       "      <th></th>\n",
       "      <th>id</th>\n",
       "      <th>slug</th>\n",
       "      <th>startDate</th>\n",
       "      <th>endDate</th>\n",
       "    </tr>\n",
       "  </thead>\n",
       "  <tbody>\n",
       "    <tr>\n",
       "      <th>0</th>\n",
       "      <td>112523529392628088</td>\n",
       "      <td>lcs_summer_2024</td>\n",
       "      <td>2024-06-15</td>\n",
       "      <td>2024-09-07</td>\n",
       "    </tr>\n",
       "    <tr>\n",
       "      <th>1</th>\n",
       "      <td>111504625283627681</td>\n",
       "      <td>lcs_spring_2024</td>\n",
       "      <td>2024-01-19</td>\n",
       "      <td>2024-04-01</td>\n",
       "    </tr>\n",
       "    <tr>\n",
       "      <th>2</th>\n",
       "      <td>110303581083678395</td>\n",
       "      <td>lcs_summer_2023</td>\n",
       "      <td>2023-05-31</td>\n",
       "      <td>2023-08-22</td>\n",
       "    </tr>\n",
       "    <tr>\n",
       "      <th>3</th>\n",
       "      <td>109517090066605615</td>\n",
       "      <td>lcs_spring_2023</td>\n",
       "      <td>2023-01-24</td>\n",
       "      <td>2023-04-11</td>\n",
       "    </tr>\n",
       "    <tr>\n",
       "      <th>4</th>\n",
       "      <td>112352881163915249</td>\n",
       "      <td>lec_summer_2024</td>\n",
       "      <td>2024-06-08</td>\n",
       "      <td>2024-07-28</td>\n",
       "    </tr>\n",
       "    <tr>\n",
       "      <th>...</th>\n",
       "      <td>...</td>\n",
       "      <td>...</td>\n",
       "      <td>...</td>\n",
       "      <td>...</td>\n",
       "    </tr>\n",
       "    <tr>\n",
       "      <th>120</th>\n",
       "      <td>110372454557117766</td>\n",
       "      <td>lrs_closing_2023</td>\n",
       "      <td>2023-05-31</td>\n",
       "      <td>2023-08-28</td>\n",
       "    </tr>\n",
       "    <tr>\n",
       "      <th>121</th>\n",
       "      <td>110988896196596544</td>\n",
       "      <td>wqs_emea_na_2023</td>\n",
       "      <td>2023-10-08</td>\n",
       "      <td>2023-10-09</td>\n",
       "    </tr>\n",
       "    <tr>\n",
       "      <th>122</th>\n",
       "      <td>111102042176368993</td>\n",
       "      <td>latam_ddr_2023</td>\n",
       "      <td>2023-10-14</td>\n",
       "      <td>2023-10-16</td>\n",
       "    </tr>\n",
       "    <tr>\n",
       "      <th>123</th>\n",
       "      <td>111573236201487481</td>\n",
       "      <td>tft_events_2024</td>\n",
       "      <td>2023-12-31</td>\n",
       "      <td>2024-12-31</td>\n",
       "    </tr>\n",
       "    <tr>\n",
       "      <th>124</th>\n",
       "      <td>109761195185432372</td>\n",
       "      <td>tft_events_2023</td>\n",
       "      <td>2023-01-01</td>\n",
       "      <td>2023-11-30</td>\n",
       "    </tr>\n",
       "  </tbody>\n",
       "</table>\n",
       "<p>125 rows × 4 columns</p>\n",
       "</div>"
      ],
      "text/plain": [
       "                     id              slug   startDate     endDate\n",
       "0    112523529392628088   lcs_summer_2024  2024-06-15  2024-09-07\n",
       "1    111504625283627681   lcs_spring_2024  2024-01-19  2024-04-01\n",
       "2    110303581083678395   lcs_summer_2023  2023-05-31  2023-08-22\n",
       "3    109517090066605615   lcs_spring_2023  2023-01-24  2023-04-11\n",
       "4    112352881163915249   lec_summer_2024  2024-06-08  2024-07-28\n",
       "..                  ...               ...         ...         ...\n",
       "120  110372454557117766  lrs_closing_2023  2023-05-31  2023-08-28\n",
       "121  110988896196596544  wqs_emea_na_2023  2023-10-08  2023-10-09\n",
       "122  111102042176368993    latam_ddr_2023  2023-10-14  2023-10-16\n",
       "123  111573236201487481   tft_events_2024  2023-12-31  2024-12-31\n",
       "124  109761195185432372   tft_events_2023  2023-01-01  2023-11-30\n",
       "\n",
       "[125 rows x 4 columns]"
      ]
     },
     "execution_count": 5,
     "metadata": {},
     "output_type": "execute_result"
    }
   ],
   "source": [
    "tournament_list = []\n",
    "for league_id in league_list:\n",
    "    response = requestWithHandlingHttperr(f\"https://prod-relapi.ewp.gg/persisted/gw/getTournamentsForLeague?hl=en-US&leagueId={league_id}\", headers=headers)\n",
    "    json = response.json()\n",
    "    if \"data\" in json and len(json[\"data\"]) > 0:\n",
    "        tournaments = json[\"data\"][\"leagues\"][0][\"tournaments\"]\n",
    "        for tournament in tournaments:\n",
    "            startDate = 0\n",
    "            if len(tournament[\"startDate\"]) > 4:\n",
    "                startDate = int(tournament[\"startDate\"][:4])\n",
    "            if startDate >= 2023:\n",
    "                tournament_list.append(tournament)\n",
    "\n",
    "df = pd.DataFrame(tournament_list)\n",
    "df"
   ]
  },
  {
   "cell_type": "code",
   "execution_count": 9,
   "metadata": {},
   "outputs": [
    {
     "data": {
      "text/plain": [
       "0      112523529392628088\n",
       "1      111504625283627681\n",
       "2      110303581083678395\n",
       "3      109517090066605615\n",
       "4      112352881163915249\n",
       "              ...        \n",
       "120    110372454557117766\n",
       "121    110988896196596544\n",
       "122    111102042176368993\n",
       "123    111573236201487481\n",
       "124    109761195185432372\n",
       "Name: id, Length: 125, dtype: object"
      ]
     },
     "execution_count": 9,
     "metadata": {},
     "output_type": "execute_result"
    }
   ],
   "source": [
    "df[\"id\"]"
   ]
  },
  {
   "cell_type": "code",
   "execution_count": 10,
   "metadata": {},
   "outputs": [],
   "source": [
    "major_leagues = pd.read_excel(\"../data/pentakill 경기 상세데이터 수집기록.xlsx\", sheet_name= \"경기 세부 링크\", dtype = \"str\")[\"id\"]"
   ]
  },
  {
   "cell_type": "code",
   "execution_count": 11,
   "metadata": {},
   "outputs": [
    {
     "data": {
      "text/plain": [
       "0      112099354464733424\n",
       "1      110198981276611770\n",
       "2      107905284983470149\n",
       "3      105873410870441926\n",
       "4      109383739753133748\n",
       "              ...        \n",
       "184    110416959491275651\n",
       "185    109749565997987636\n",
       "186    109067014926424947\n",
       "187    109066101880117809\n",
       "188    107256578722475733\n",
       "Name: id, Length: 189, dtype: object"
      ]
     },
     "execution_count": 11,
     "metadata": {},
     "output_type": "execute_result"
    }
   ],
   "source": [
    "major_leagues"
   ]
  },
  {
   "cell_type": "code",
   "execution_count": 16,
   "metadata": {},
   "outputs": [],
   "source": [
    "df_minor = df[df[\"id\"].isin(major_leagues) == False].reset_index(drop=True)\n",
    "df_minor.to_excel(\"../data/target_tournament_for_test.xlsx\")"
   ]
  }
 ],
 "metadata": {
  "kernelspec": {
   "display_name": "newdeal",
   "language": "python",
   "name": "python3"
  },
  "language_info": {
   "codemirror_mode": {
    "name": "ipython",
    "version": 3
   },
   "file_extension": ".py",
   "mimetype": "text/x-python",
   "name": "python",
   "nbconvert_exporter": "python",
   "pygments_lexer": "ipython3",
   "version": "3.12.3"
  }
 },
 "nbformat": 4,
 "nbformat_minor": 2
}
