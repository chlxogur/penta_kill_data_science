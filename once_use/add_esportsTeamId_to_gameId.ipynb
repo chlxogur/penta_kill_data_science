{
 "cells": [
  {
   "cell_type": "markdown",
   "metadata": {},
   "source": [
    "game_ids.xlsx에 블루팀과 레드팀 id를 추가하는 코드."
   ]
  },
  {
   "cell_type": "code",
   "execution_count": null,
   "metadata": {},
   "outputs": [],
   "source": [
    "import pandas as pd\n",
    "import os\n",
    "import datetime\n",
    "import numpy as np\n",
    "from tqdm import tqdm"
   ]
  },
  {
   "cell_type": "code",
   "execution_count": null,
   "metadata": {},
   "outputs": [],
   "source": [
    "PARTICIPANT_NUMBER_OF_A_TEAM = 5\n",
    "participant_ids_by_role = []\n",
    "DETAIL_PATH = \"../data/collected_data/\""
   ]
  },
  {
   "cell_type": "code",
   "execution_count": null,
   "metadata": {},
   "outputs": [],
   "source": [
    "strcolumn_dict = {\"tournamentId\":\"str\", \"matchId\":\"str\", \"gameId\":\"str\", \"patch\":\"str\"}\n",
    "temp1 = [f\"esportsPlayerId_{i}\" for i in range(10)]\n",
    "temp2 = [\"str\" for i in range(10)]\n",
    "esportsPlayerId_type_dict = dict(zip(temp1, temp2))\n",
    "strcolumn_dict.update(esportsPlayerId_type_dict)\n",
    "game_ids_df = pd.read_excel(\"../data/game_ids.xlsx\", dtype=strcolumn_dict, index_col = 0)\n",
    "game_ids_df[\"startTime(match)\"] = game_ids_df[\"startTime(match)\"].apply(lambda x : datetime.datetime.strptime(x[:19], \"%Y-%m-%dT%H:%M:%S\"))\n",
    "\n",
    "game_ids_df.info()"
   ]
  },
  {
   "cell_type": "code",
   "execution_count": null,
   "metadata": {},
   "outputs": [],
   "source": [
    "game_ids_df.head()"
   ]
  },
  {
   "cell_type": "code",
   "execution_count": null,
   "metadata": {},
   "outputs": [],
   "source": [
    "strcolumn_dict_of_collected_datas = {\"gameId\":\"str\", \"esportsTeamId_Blue\":\"str\", \"esportsTeamId_Red\":\"str\"}\n",
    "strcolumn_dict_of_collected_datas.update(esportsPlayerId_type_dict)\n",
    "last_row_of_collected_datas_df = pd.read_excel(\"../data/last_row_of_collected_datas.xlsx\", dtype = strcolumn_dict_of_collected_datas)\n",
    "last_row_of_collected_datas_df.info(verbose=True, show_counts = True)"
   ]
  },
  {
   "cell_type": "code",
   "execution_count": null,
   "metadata": {},
   "outputs": [],
   "source": [
    "mapping = last_row_of_collected_datas_df.set_index('gameId')['esportsTeamId_Blue']\n",
    "game_ids_df[\"esportsTeamId_Blue\"] = game_ids_df[\"gameId\"].map(mapping)\n",
    "mapping = last_row_of_collected_datas_df.set_index('gameId')['esportsTeamId_Red']\n",
    "game_ids_df[\"esportsTeamId_Red\"] = game_ids_df[\"gameId\"].map(mapping)"
   ]
  },
  {
   "cell_type": "code",
   "execution_count": null,
   "metadata": {},
   "outputs": [],
   "source": [
    "game_ids_df.info()"
   ]
  },
  {
   "cell_type": "code",
   "execution_count": null,
   "metadata": {},
   "outputs": [],
   "source": [
    "game_ids_df = game_ids_df.loc[pd.isna(game_ids_df[\"esportsTeamId_Blue\"]) == False]\n",
    "game_ids_df.to_excel(\"../data/game_ids.xlsx\")"
   ]
  }
 ],
 "metadata": {
  "language_info": {
   "name": "python"
  }
 },
 "nbformat": 4,
 "nbformat_minor": 2
}
