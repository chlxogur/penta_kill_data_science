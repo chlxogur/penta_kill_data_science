{
 "cells": [
  {
   "cell_type": "code",
   "execution_count": 21,
   "metadata": {},
   "outputs": [],
   "source": [
    "import pandas as pd\n",
    "import numpy as np\n",
    "import json"
   ]
  },
  {
   "cell_type": "code",
   "execution_count": 22,
   "metadata": {},
   "outputs": [],
   "source": [
    "df = pd.read_excel(\"../data/crawling_result_with_codenames.xlsx\")\n",
    "\n"
   ]
  },
  {
   "cell_type": "code",
   "execution_count": 23,
   "metadata": {},
   "outputs": [
    {
     "name": "stdout",
     "output_type": "stream",
     "text": [
      "<class 'pandas.core.frame.DataFrame'>\n",
      "RangeIndex: 20118 entries, 0 to 20117\n",
      "Data columns (total 31 columns):\n",
      " #   Column            Non-Null Count  Dtype \n",
      "---  ------            --------------  ----- \n",
      " 0   date              20118 non-null  object\n",
      " 1   tournament_title  20118 non-null  object\n",
      " 2   patch             20118 non-null  object\n",
      " 3   blueteam          20118 non-null  object\n",
      " 4   redteam           20118 non-null  object\n",
      " 5   winner_side       20118 non-null  object\n",
      " 6   ban_0             20074 non-null  object\n",
      " 7   ban_1             20091 non-null  object\n",
      " 8   ban_2             20086 non-null  object\n",
      " 9   ban_3             16912 non-null  object\n",
      " 10  ban_4             16826 non-null  object\n",
      " 11  ban_5             20066 non-null  object\n",
      " 12  ban_6             20090 non-null  object\n",
      " 13  ban_7             20082 non-null  object\n",
      " 14  ban_8             16917 non-null  object\n",
      " 15  ban_9             16815 non-null  object\n",
      " 16  pick_0            20118 non-null  object\n",
      " 17  pick_1            20118 non-null  object\n",
      " 18  pick_2            20118 non-null  object\n",
      " 19  pick_3            20118 non-null  object\n",
      " 20  pick_4            20118 non-null  object\n",
      " 21  pick_5            20118 non-null  object\n",
      " 22  pick_6            20118 non-null  object\n",
      " 23  pick_7            20118 non-null  object\n",
      " 24  pick_8            20118 non-null  object\n",
      " 25  pick_9            20118 non-null  object\n",
      " 26  tournament_name   20118 non-null  object\n",
      " 27  tournament_id     20118 non-null  int64 \n",
      " 28  tournament_slug   20118 non-null  object\n",
      " 29  blueteam_code     20118 non-null  object\n",
      " 30  redteam_code      20118 non-null  object\n",
      "dtypes: int64(1), object(30)\n",
      "memory usage: 4.8+ MB\n"
     ]
    }
   ],
   "source": [
    "df.info()"
   ]
  },
  {
   "cell_type": "code",
   "execution_count": 18,
   "metadata": {},
   "outputs": [
    {
     "data": {
      "text/plain": [
       "['Beşiktaş Esports', 'Beşiktaş.Oyun Hizmetleri', 'Fenerbahçe Esports']"
      ]
     },
     "execution_count": 18,
     "metadata": {},
     "output_type": "execute_result"
    }
   ],
   "source": [
    "result = []\n",
    "for idx, row in df.iterrows():\n",
    "    if row[\"blueteam_code\"] is np.nan:\n",
    "        result.append(row[\"blueteam\"])\n",
    "    if row[\"redteam_code\"] is np.nan:\n",
    "        result.append(row[\"redteam\"])\n",
    "\n",
    "list(set(result))"
   ]
  },
  {
   "cell_type": "code",
   "execution_count": 20,
   "metadata": {},
   "outputs": [
    {
     "name": "stdout",
     "output_type": "stream",
     "text": [
      "Beşiktaş Esports\n",
      "Beşiktaş.Oyun Hizmetleri\n",
      "Fenerbahçe Esports\n",
      "BJK\n"
     ]
    }
   ],
   "source": [
    "with open('../data/team_code.json', 'r') as f:\n",
    "    team_code_map = json.load(f)\n",
    "if 'Beşiktaş Esports' in team_code_map: print('Beşiktaş Esports')\n",
    "if \"Beşiktaş.Oyun Hizmetleri\" in team_code_map: print(\"Beşiktaş.Oyun Hizmetleri\")\n",
    "if \"Fenerbahçe Esports\" in team_code_map: print(\"Fenerbahçe Esports\")\n",
    "print(team_code_map[\"Beşiktaş Esports\"])"
   ]
  },
  {
   "cell_type": "code",
   "execution_count": 11,
   "metadata": {},
   "outputs": [],
   "source": [
    "for idx, row in df.iterrows():\n",
    "    if row[\"blueteam\"] == 'Beşiktaş Esports': row[\"blueteam_code\"] = \"BJK\"\n",
    "    if row[\"blueteam\"] == 'Beşiktaş.Oyun Hizmetleri': row[\"blueteam_code\"] = \"BJKOH\"\n",
    "    if row[\"blueteam\"] == 'Fenerbahçe Esports': row[\"blueteam_code\"] = \"FB\"\n",
    "    if row[\"redteam\"] == 'Beşiktaş Esports': row[\"redteam_code\"] = \"BJK\"\n",
    "    if row[\"redteam\"] == 'Beşiktaş.Oyun Hizmetleri': row[\"redteam_code\"] = \"BJKOH\"\n",
    "    if row[\"redteam\"] == 'Fenerbahçe Esports': row[\"redteam_code\"] = \"FB\""
   ]
  },
  {
   "cell_type": "code",
   "execution_count": 12,
   "metadata": {},
   "outputs": [
    {
     "name": "stdout",
     "output_type": "stream",
     "text": [
      "<class 'pandas.core.frame.DataFrame'>\n",
      "RangeIndex: 20118 entries, 0 to 20117\n",
      "Data columns (total 31 columns):\n",
      " #   Column            Non-Null Count  Dtype \n",
      "---  ------            --------------  ----- \n",
      " 0   date              20118 non-null  object\n",
      " 1   tournament_title  20118 non-null  object\n",
      " 2   patch             20118 non-null  object\n",
      " 3   blueteam          20118 non-null  object\n",
      " 4   redteam           20118 non-null  object\n",
      " 5   winner_side       20118 non-null  object\n",
      " 6   ban_0             20074 non-null  object\n",
      " 7   ban_1             20091 non-null  object\n",
      " 8   ban_2             20086 non-null  object\n",
      " 9   ban_3             16912 non-null  object\n",
      " 10  ban_4             16826 non-null  object\n",
      " 11  ban_5             20066 non-null  object\n",
      " 12  ban_6             20090 non-null  object\n",
      " 13  ban_7             20082 non-null  object\n",
      " 14  ban_8             16917 non-null  object\n",
      " 15  ban_9             16815 non-null  object\n",
      " 16  pick_0            20118 non-null  object\n",
      " 17  pick_1            20118 non-null  object\n",
      " 18  pick_2            20118 non-null  object\n",
      " 19  pick_3            20118 non-null  object\n",
      " 20  pick_4            20118 non-null  object\n",
      " 21  pick_5            20118 non-null  object\n",
      " 22  pick_6            20118 non-null  object\n",
      " 23  pick_7            20118 non-null  object\n",
      " 24  pick_8            20118 non-null  object\n",
      " 25  pick_9            20118 non-null  object\n",
      " 26  tournament_name   20118 non-null  object\n",
      " 27  tournament_id     20118 non-null  int64 \n",
      " 28  tournament_slug   20118 non-null  object\n",
      " 29  blueteam_code     19940 non-null  object\n",
      " 30  redteam_code      19937 non-null  object\n",
      "dtypes: int64(1), object(30)\n",
      "memory usage: 4.8+ MB\n"
     ]
    }
   ],
   "source": [
    "df.info()"
   ]
  }
 ],
 "metadata": {
  "kernelspec": {
   "display_name": "newdeal",
   "language": "python",
   "name": "python3"
  },
  "language_info": {
   "codemirror_mode": {
    "name": "ipython",
    "version": 3
   },
   "file_extension": ".py",
   "mimetype": "text/x-python",
   "name": "python",
   "nbconvert_exporter": "python",
   "pygments_lexer": "ipython3",
   "version": "3.12.3"
  }
 },
 "nbformat": 4,
 "nbformat_minor": 2
}
