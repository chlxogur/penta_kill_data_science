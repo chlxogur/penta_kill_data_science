{
  "cells": [
    {
      "cell_type": "markdown",
      "metadata": {},
      "source": [
        "코랩에서 돌렸습니다."
      ]
    },
    {
      "cell_type": "code",
      "execution_count": 1,
      "metadata": {
        "colab": {
          "base_uri": "https://localhost:8080/"
        },
        "id": "Xu9qqP80tikm",
        "outputId": "fe7f0ea1-d559-47a4-b86e-57b071b5a09a"
      },
      "outputs": [
        {
          "name": "stdout",
          "output_type": "stream",
          "text": [
            "Drive already mounted at /content/drive; to attempt to forcibly remount, call drive.mount(\"/content/drive\", force_remount=True).\n"
          ]
        }
      ],
      "source": [
        "from google.colab import drive\n",
        "drive.mount('/content/drive')"
      ]
    },
    {
      "cell_type": "code",
      "execution_count": 9,
      "metadata": {
        "id": "ImhuIf_utVQh"
      },
      "outputs": [],
      "source": [
        "import pandas as pd\n",
        "import os\n",
        "from tqdm import tqdm\n",
        "\n",
        "\n",
        "# 팀명과 소환사명이 공백 없이 붙어서 나와 문제가 생긴 데이터들이 일부 있습니다. 그걸 팀명과 소환사명으로 분리하기 위한 코드입니다.\n",
        "# 각 팀 5명의 선수에 대해 공통적으로 앞에 붙은 문자열은 팀명으로 간주합니다.\n",
        "# 일치하는 부분이 없으면 \"\", 0을 리턴합니다. 파라미터가 문자열이 아니면 \"\", -1을 리턴합니다.\n",
        "\n",
        "def find_common_prefix(strings):\n",
        "    if not strings:\n",
        "        return \"\", -1\n",
        "\n",
        "    # 짧은 문자 찾기\n",
        "    shortest = min(strings, key=len)\n",
        "\n",
        "    # 짧은 문자의 가장 긴 것으로 max값을 잡아 놓고\n",
        "    end_index = len(shortest)\n",
        "\n",
        "    for i in range(len(shortest)):  # 문자열의 첫 글자부터\n",
        "        current_char = shortest[i]\n",
        "        for string in strings:\n",
        "            if string[i] != current_char:\n",
        "                end_index = i\n",
        "                break\n",
        "        if end_index != len(shortest):\n",
        "            break\n",
        "\n",
        "    common_prefix = shortest[:end_index]\n",
        "    return common_prefix, end_index"
      ]
    },
    {
      "cell_type": "code",
      "execution_count": 6,
      "metadata": {
        "id": "C6v2rCDLtgn3"
      },
      "outputs": [],
      "source": [
        "COLLECTED_DATA_PATH = \"/content/drive/MyDrive/penta_kill/data science/collected_game_data/\"\n",
        "file_list = os.listdir(COLLECTED_DATA_PATH)"
      ]
    },
    {
      "cell_type": "code",
      "execution_count": 14,
      "metadata": {
        "colab": {
          "base_uri": "https://localhost:8080/",
          "height": 35
        },
        "id": "KP7mtqr9RQNN",
        "outputId": "222eede2-f0fc-4495-9d5b-e30f7e46af5b"
      },
      "outputs": [
        {
          "data": {
            "application/vnd.google.colaboratory.intrinsic+json": {
              "type": "string"
            },
            "text/plain": [
              "'111686476080491537.xlsx'"
            ]
          },
          "execution_count": 14,
          "metadata": {},
          "output_type": "execute_result"
        }
      ],
      "source": [
        "file_list[221]  # 이름이 500이라 버그난곳"
      ]
    },
    {
      "cell_type": "code",
      "execution_count": 15,
      "metadata": {
        "colab": {
          "base_uri": "https://localhost:8080/"
        },
        "id": "nBrRm_ELuRpg",
        "outputId": "dc6c6bf1-77bd-4bcd-d941-09ec0ae8e4c1"
      },
      "outputs": [
        {
          "name": "stderr",
          "output_type": "stream",
          "text": [
            "  9%|▉         | 882/9303 [25:21<4:13:06,  1.80s/it]"
          ]
        },
        {
          "name": "stdout",
          "output_type": "stream",
          "text": [
            "112274705999884350.xlsx is needed\n",
            "0 GEN 3 BLG 3\n",
            "1 GEN 3 BLG 3\n",
            "2 GEN 3 BLG 3\n",
            "3 GEN 3 BLG 3\n",
            "4 GEN 3 BLG 3\n"
          ]
        },
        {
          "name": "stderr",
          "output_type": "stream",
          "text": [
            " 10%|▉         | 884/9303 [25:27<5:32:51,  2.37s/it]"
          ]
        },
        {
          "name": "stdout",
          "output_type": "stream",
          "text": [
            "112274705999884349.xlsx is needed\n",
            "0 BLG 3 GEN 3\n",
            "1 BLG 3 GEN 3\n",
            "2 BLG 3 GEN 3\n",
            "3 BLG 3 GEN 3\n",
            "4 BLG 3 GEN 3\n"
          ]
        },
        {
          "name": "stderr",
          "output_type": "stream",
          "text": [
            "\r 10%|▉         | 885/9303 [25:31<6:39:24,  2.85s/it]"
          ]
        },
        {
          "name": "stdout",
          "output_type": "stream",
          "text": [
            "112274705999884348.xlsx is needed\n",
            "0 BLG 3 GEN 3\n",
            "1 BLG 3 GEN 3\n",
            "2 BLG 3 GEN 3\n",
            "3 BLG 3 GEN 3\n",
            "4 BLG 3 GEN 3\n"
          ]
        },
        {
          "name": "stderr",
          "output_type": "stream",
          "text": [
            " 10%|▉         | 887/9303 [25:36<5:49:54,  2.49s/it]"
          ]
        },
        {
          "name": "stdout",
          "output_type": "stream",
          "text": [
            "112274705999884347.xlsx is needed\n",
            "0 GEN 3 BLG 3\n",
            "1 GEN 3 BLG 3\n",
            "2 GEN 3 BLG 3\n",
            "3 GEN 3 BLG 3\n",
            "4 GEN 3 BLG 3\n"
          ]
        },
        {
          "name": "stderr",
          "output_type": "stream",
          "text": [
            "\r 10%|▉         | 888/9303 [25:39<6:42:35,  2.87s/it]"
          ]
        },
        {
          "name": "stdout",
          "output_type": "stream",
          "text": [
            "112274705999884345.xlsx is needed\n",
            "0 BLG 3 T1 2\n",
            "1 BLG 3 T1 2\n",
            "2 BLG 3 T1 2\n",
            "3 BLG 3 T1 2\n",
            "4 BLG 3 T1 2\n"
          ]
        },
        {
          "name": "stderr",
          "output_type": "stream",
          "text": [
            "\r 10%|▉         | 889/9303 [25:43<7:35:40,  3.25s/it]"
          ]
        },
        {
          "name": "stdout",
          "output_type": "stream",
          "text": [
            "112274705999884344.xlsx is needed\n",
            "0 T1 2 BLG 3\n",
            "1 T1 2 BLG 3\n",
            "2 T1 2 BLG 3\n",
            "3 T1 2 BLG 3\n",
            "4 T1 2 BLG 3\n"
          ]
        },
        {
          "name": "stderr",
          "output_type": "stream",
          "text": [
            "\r 10%|▉         | 890/9303 [25:47<7:37:53,  3.27s/it]"
          ]
        },
        {
          "name": "stdout",
          "output_type": "stream",
          "text": [
            "112274705999884342.xlsx is needed\n",
            "0 T1 2 BLG 3\n",
            "1 T1 2 BLG 3\n",
            "2 T1 2 BLG 3\n",
            "3 T1 2 BLG 3\n",
            "4 T1 2 BLG 3\n"
          ]
        },
        {
          "name": "stderr",
          "output_type": "stream",
          "text": [
            "\r 10%|▉         | 891/9303 [25:49<7:08:45,  3.06s/it]"
          ]
        },
        {
          "name": "stdout",
          "output_type": "stream",
          "text": [
            "112274705999884343.xlsx is needed\n",
            "0 BLG 3 T1 2\n",
            "1 BLG 3 T1 2\n",
            "2 BLG 3 T1 2\n",
            "3 BLG 3 T1 2\n",
            "4 BLG 3 T1 2\n"
          ]
        },
        {
          "name": "stderr",
          "output_type": "stream",
          "text": [
            "\r 10%|▉         | 892/9303 [25:52<6:35:27,  2.82s/it]"
          ]
        },
        {
          "name": "stdout",
          "output_type": "stream",
          "text": [
            "112274705999884341.xlsx is needed\n",
            "0 BLG 3 T1 2\n",
            "1 BLG 3 T1 2\n",
            "2 BLG 3 T1 2\n",
            "3 BLG 3 T1 2\n",
            "4 BLG 3 T1 2\n"
          ]
        },
        {
          "name": "stderr",
          "output_type": "stream",
          "text": [
            " 23%|██▎       | 2174/9303 [55:33<3:24:45,  1.72s/it]"
          ]
        },
        {
          "name": "stdout",
          "output_type": "stream",
          "text": [
            "112274705999818735.xlsx is needed\n",
            "0 TES 3 TL 2\n",
            "1 TES 3 TL 2\n",
            "2 TES 3 TL 2\n",
            "3 TES 3 TL 2\n",
            "4 TES 3 TL 2\n"
          ]
        },
        {
          "name": "stderr",
          "output_type": "stream",
          "text": [
            " 47%|████▋     | 4370/9303 [1:51:54<2:40:36,  1.95s/it]"
          ]
        },
        {
          "name": "stdout",
          "output_type": "stream",
          "text": [
            "112274705999818739.xlsx is needed\n",
            "0 GEN 3 FNC 3\n",
            "1 GEN 3 FNC 3\n",
            "2 GEN 3 FNC 3\n",
            "3 GEN 3 FNC 3\n",
            "4 GEN 3 FNC 3\n"
          ]
        },
        {
          "name": "stderr",
          "output_type": "stream",
          "text": [
            "\r 47%|████▋     | 4371/9303 [1:51:59<3:53:52,  2.85s/it]"
          ]
        },
        {
          "name": "stdout",
          "output_type": "stream",
          "text": [
            "112274705999818740.xlsx is needed\n",
            "0 FNC 3 GEN 3\n",
            "1 FNC 3 GEN 3\n",
            "2 FNC 3 GEN 3\n",
            "3 FNC 3 GEN 3\n",
            "4 FNC 3 GEN 3\n"
          ]
        },
        {
          "name": "stderr",
          "output_type": "stream",
          "text": [
            " 47%|████▋     | 4374/9303 [1:52:06<3:00:34,  2.20s/it]"
          ]
        },
        {
          "name": "stdout",
          "output_type": "stream",
          "text": [
            "112274687401036075.xlsx is needed\n",
            "0 FLY 3 PSG 3\n",
            "1 FLY 3 PSG 3\n",
            "2 FLY 3 PSG 3\n",
            "3 FLY 3 PSG 3\n",
            "4 FLY 3 PSG 3\n"
          ]
        },
        {
          "name": "stderr",
          "output_type": "stream",
          "text": [
            " 47%|████▋     | 4376/9303 [1:52:11<3:19:40,  2.43s/it]"
          ]
        },
        {
          "name": "stdout",
          "output_type": "stream",
          "text": [
            "112274705999884299.xlsx is needed\n",
            "0 BLG 3 T1 2\n",
            "1 BLG 3 T1 2\n",
            "2 BLG 3 T1 2\n",
            "3 BLG 3 T1 2\n",
            "4 BLG 3 T1 2\n"
          ]
        },
        {
          "name": "stderr",
          "output_type": "stream",
          "text": [
            "\r 47%|████▋     | 4377/9303 [1:52:15<3:49:07,  2.79s/it]"
          ]
        },
        {
          "name": "stdout",
          "output_type": "stream",
          "text": [
            "112274705999818741.xlsx is needed\n",
            "0 FNC 3 GEN 3\n",
            "1 FNC 3 GEN 3\n",
            "2 FNC 3 GEN 3\n",
            "3 FNC 3 GEN 3\n",
            "4 FNC 3 GEN 3\n"
          ]
        },
        {
          "name": "stderr",
          "output_type": "stream",
          "text": [
            "\r 47%|████▋     | 4378/9303 [1:52:17<3:44:19,  2.73s/it]"
          ]
        },
        {
          "name": "stdout",
          "output_type": "stream",
          "text": [
            "112274687401036076.xlsx is needed\n",
            "0 FLY 3 PSG 3\n",
            "1 FLY 3 PSG 3\n",
            "2 FLY 3 PSG 3\n",
            "3 FLY 3 PSG 3\n",
            "4 FLY 3 PSG 3\n"
          ]
        },
        {
          "name": "stderr",
          "output_type": "stream",
          "text": [
            "\r 47%|████▋     | 4379/9303 [1:52:20<3:45:32,  2.75s/it]"
          ]
        },
        {
          "name": "stdout",
          "output_type": "stream",
          "text": [
            "112274705999884300.xlsx is needed\n",
            "0 BLG 3 T1 2\n",
            "1 BLG 3 T1 2\n",
            "2 BLG 3 T1 2\n",
            "3 BLG 3 T1 2\n",
            "4 BLG 3 T1 2\n"
          ]
        },
        {
          "name": "stderr",
          "output_type": "stream",
          "text": [
            "\r 47%|████▋     | 4380/9303 [1:52:23<3:45:40,  2.75s/it]"
          ]
        },
        {
          "name": "stdout",
          "output_type": "stream",
          "text": [
            "112274705999884301.xlsx is needed\n",
            "0 BLG 3 T1 2\n",
            "1 BLG 3 T1 2\n",
            "2 BLG 3 T1 2\n",
            "3 BLG 3 T1 2\n",
            "4 BLG 3 T1 2\n"
          ]
        },
        {
          "name": "stderr",
          "output_type": "stream",
          "text": [
            "\r 47%|████▋     | 4381/9303 [1:52:27<4:16:50,  3.13s/it]"
          ]
        },
        {
          "name": "stdout",
          "output_type": "stream",
          "text": [
            "112274687401036077.xlsx is needed\n",
            "0 PSG 3 FLY 3\n",
            "1 PSG 3 FLY 3\n",
            "2 PSG 3 FLY 3\n",
            "3 PSG 3 FLY 3\n",
            "4 PSG 3 FLY 3\n"
          ]
        },
        {
          "name": "stderr",
          "output_type": "stream",
          "text": [
            "\r 47%|████▋     | 4382/9303 [1:52:30<4:19:02,  3.16s/it]"
          ]
        },
        {
          "name": "stdout",
          "output_type": "stream",
          "text": [
            "112274687401036080.xlsx is needed\n",
            "0 EST 3 T1 2\n",
            "1 EST 3 T1 2\n",
            "2 EST 3 T1 2\n",
            "3 EST 3 T1 2\n",
            "4 EST 3 T1 2\n"
          ]
        },
        {
          "name": "stderr",
          "output_type": "stream",
          "text": [
            "\r 47%|████▋     | 4383/9303 [1:52:33<4:01:33,  2.95s/it]"
          ]
        },
        {
          "name": "stdout",
          "output_type": "stream",
          "text": [
            "112274705999884302.xlsx is needed\n",
            "0 T1 2 BLG 3\n",
            "1 T1 2 BLG 3\n",
            "2 T1 2 BLG 3\n",
            "3 T1 2 BLG 3\n",
            "4 T1 2 BLG 3\n"
          ]
        },
        {
          "name": "stderr",
          "output_type": "stream",
          "text": [
            "\r 47%|████▋     | 4384/9303 [1:52:35<3:57:09,  2.89s/it]"
          ]
        },
        {
          "name": "stdout",
          "output_type": "stream",
          "text": [
            "112274687401036079.xlsx is needed\n",
            "0 T1 2 EST 3\n",
            "1 T1 2 EST 3\n",
            "2 T1 2 EST 3\n",
            "3 T1 2 EST 3\n",
            "4 T1 2 EST 3\n"
          ]
        },
        {
          "name": "stderr",
          "output_type": "stream",
          "text": [
            "\r 47%|████▋     | 4385/9303 [1:52:38<3:44:59,  2.74s/it]"
          ]
        },
        {
          "name": "stdout",
          "output_type": "stream",
          "text": [
            "112274687401036095.xlsx is needed\n",
            "0 FNC 3 GAM 3\n",
            "1 FNC 3 GAM 3\n",
            "2 FNC 3 GAM 3\n",
            "3 FNC 3 GAM 3\n",
            "4 FNC 3 GAM 3\n"
          ]
        },
        {
          "name": "stderr",
          "output_type": "stream",
          "text": [
            "\r 47%|████▋     | 4386/9303 [1:52:42<4:28:25,  3.28s/it]"
          ]
        },
        {
          "name": "stdout",
          "output_type": "stream",
          "text": [
            "112274705999884330.xlsx is needed\n",
            "0 TES 3 G2 2\n",
            "1 TES 3 G2 2\n",
            "2 TES 3 G2 2\n",
            "3 TES 3 G2 2\n",
            "4 TES 3 G2 2\n"
          ]
        },
        {
          "name": "stderr",
          "output_type": "stream",
          "text": [
            "\r 47%|████▋     | 4387/9303 [1:52:45<4:06:13,  3.01s/it]"
          ]
        },
        {
          "name": "stdout",
          "output_type": "stream",
          "text": [
            "112274705999884329.xlsx is needed\n",
            "0 TES 3 G2 2\n",
            "1 TES 3 G2 2\n",
            "2 TES 3 G2 2\n",
            "3 TES 3 G2 2\n",
            "4 TES 3 G2 2\n"
          ]
        },
        {
          "name": "stderr",
          "output_type": "stream",
          "text": [
            "\r 47%|████▋     | 4388/9303 [1:52:47<3:55:26,  2.87s/it]"
          ]
        },
        {
          "name": "stdout",
          "output_type": "stream",
          "text": [
            "112274687401036096.xlsx is needed\n",
            "0 GAM 3 FNC 3\n",
            "1 GAM 3 FNC 3\n",
            "2 GAM 3 FNC 3\n",
            "3 GAM 3 FNC 3\n",
            "4 GAM 3 FNC 3\n"
          ]
        },
        {
          "name": "stderr",
          "output_type": "stream",
          "text": [
            "\r 47%|████▋     | 4389/9303 [1:52:50<3:45:33,  2.75s/it]"
          ]
        },
        {
          "name": "stdout",
          "output_type": "stream",
          "text": [
            "112274705999884331.xlsx is needed\n",
            "0 G2 2 TES 3\n",
            "1 G2 2 TES 3\n",
            "2 G2 2 TES 3\n",
            "3 G2 2 TES 3\n",
            "4 G2 2 TES 3\n"
          ]
        },
        {
          "name": "stderr",
          "output_type": "stream",
          "text": [
            "\r 47%|████▋     | 4390/9303 [1:52:53<3:51:35,  2.83s/it]"
          ]
        },
        {
          "name": "stdout",
          "output_type": "stream",
          "text": [
            "112274705999884323.xlsx is needed\n",
            "0 T1 2 TL 2\n",
            "1 T1 2 TL 2\n",
            "2 T1 2 TL 2\n",
            "3 T1 2 TL 2\n",
            "4 T1 2 TL 2\n"
          ]
        },
        {
          "name": "stderr",
          "output_type": "stream",
          "text": [
            "\r 47%|████▋     | 4391/9303 [1:52:57<4:17:28,  3.15s/it]"
          ]
        },
        {
          "name": "stdout",
          "output_type": "stream",
          "text": [
            "112274687401036099.xlsx is needed\n",
            "0 TES 3 LLL 3\n",
            "1 TES 3 LLL 3\n",
            "2 TES 3 LLL 3\n",
            "3 TES 3 LLL 3\n",
            "4 TES 3 LLL 3\n"
          ]
        },
        {
          "name": "stderr",
          "output_type": "stream",
          "text": [
            "\r 47%|████▋     | 4392/9303 [1:53:00<4:14:54,  3.11s/it]"
          ]
        },
        {
          "name": "stdout",
          "output_type": "stream",
          "text": [
            "112274705999884324.xlsx is needed\n",
            "0 TL 2 T1 2\n",
            "1 TL 2 T1 2\n",
            "2 TL 2 T1 2\n",
            "3 TL 2 T1 2\n",
            "4 TL 2 T1 2\n"
          ]
        },
        {
          "name": "stderr",
          "output_type": "stream",
          "text": [
            "\r 47%|████▋     | 4393/9303 [1:53:04<4:34:24,  3.35s/it]"
          ]
        },
        {
          "name": "stdout",
          "output_type": "stream",
          "text": [
            "112274687401036100.xlsx is needed\n",
            "0 LLL 3 TES 3\n",
            "1 LLL 3 TES 3\n",
            "2 LLL 3 TES 3\n",
            "3 LLL 3 TES 3\n",
            "4 LLL 3 TES 3\n"
          ]
        },
        {
          "name": "stderr",
          "output_type": "stream",
          "text": [
            "\r 47%|████▋     | 4394/9303 [1:53:06<4:19:15,  3.17s/it]"
          ]
        },
        {
          "name": "stdout",
          "output_type": "stream",
          "text": [
            "112274687401036083.xlsx is needed\n",
            "0 T1 2 FLY 3\n",
            "1 T1 2 FLY 3\n",
            "2 T1 2 FLY 3\n",
            "3 T1 2 FLY 3\n",
            "4 T1 2 FLY 3\n"
          ]
        },
        {
          "name": "stderr",
          "output_type": "stream",
          "text": [
            "\r 47%|████▋     | 4395/9303 [1:53:09<4:10:30,  3.06s/it]"
          ]
        },
        {
          "name": "stdout",
          "output_type": "stream",
          "text": [
            "112274687401036084.xlsx is needed\n",
            "0 FLY 3 T1 2\n",
            "1 FLY 3 T1 2\n",
            "2 FLY 3 T1 2\n",
            "3 FLY 3 T1 2\n",
            "4 FLY 3 T1 2\n"
          ]
        },
        {
          "name": "stderr",
          "output_type": "stream",
          "text": [
            "\r 47%|████▋     | 4396/9303 [1:53:12<4:00:51,  2.95s/it]"
          ]
        },
        {
          "name": "stdout",
          "output_type": "stream",
          "text": [
            "112274705999884325.xlsx is needed\n",
            "0 TL 2 T1 2\n",
            "1 TL 2 T1 2\n",
            "2 TL 2 T1 2\n",
            "3 TL 2 T1 2\n",
            "4 TL 2 T1 2\n"
          ]
        },
        {
          "name": "stderr",
          "output_type": "stream",
          "text": [
            "\r 47%|████▋     | 4397/9303 [1:53:15<4:05:52,  3.01s/it]"
          ]
        },
        {
          "name": "stdout",
          "output_type": "stream",
          "text": [
            "112274705999884326.xlsx is needed\n",
            "0 T1 2 TL 2\n",
            "1 T1 2 TL 2\n",
            "2 T1 2 TL 2\n",
            "3 T1 2 TL 2\n",
            "4 T1 2 TL 2\n"
          ]
        },
        {
          "name": "stderr",
          "output_type": "stream",
          "text": [
            "\r 47%|████▋     | 4398/9303 [1:53:17<3:46:55,  2.78s/it]"
          ]
        },
        {
          "name": "stdout",
          "output_type": "stream",
          "text": [
            "112274687401036103.xlsx is needed\n",
            "0 TES 3 FNC 3\n",
            "1 TES 3 FNC 3\n",
            "2 TES 3 FNC 3\n",
            "3 TES 3 FNC 3\n",
            "4 TES 3 FNC 3\n"
          ]
        },
        {
          "name": "stderr",
          "output_type": "stream",
          "text": [
            "\r 47%|████▋     | 4399/9303 [1:53:20<3:47:37,  2.79s/it]"
          ]
        },
        {
          "name": "stdout",
          "output_type": "stream",
          "text": [
            "112274687401036104.xlsx is needed\n",
            "0 FNC 3 TES 3\n",
            "1 FNC 3 TES 3\n",
            "2 FNC 3 TES 3\n",
            "3 FNC 3 TES 3\n",
            "4 FNC 3 TES 3\n"
          ]
        },
        {
          "name": "stderr",
          "output_type": "stream",
          "text": [
            "\r 47%|████▋     | 4400/9303 [1:53:24<4:18:06,  3.16s/it]"
          ]
        },
        {
          "name": "stdout",
          "output_type": "stream",
          "text": [
            "112274705999884317.xlsx is needed\n",
            "0 GEN 3 BLG 3\n",
            "1 GEN 3 BLG 3\n",
            "2 GEN 3 BLG 3\n",
            "3 GEN 3 BLG 3\n",
            "4 GEN 3 BLG 3\n"
          ]
        },
        {
          "name": "stderr",
          "output_type": "stream",
          "text": [
            "\r 47%|████▋     | 4401/9303 [1:53:27<4:18:36,  3.17s/it]"
          ]
        },
        {
          "name": "stdout",
          "output_type": "stream",
          "text": [
            "112274705999884318.xlsx is needed\n",
            "0 GEN 3 BLG 3\n",
            "1 GEN 3 BLG 3\n",
            "2 GEN 3 BLG 3\n",
            "3 GEN 3 BLG 3\n",
            "4 GEN 3 BLG 3\n"
          ]
        },
        {
          "name": "stderr",
          "output_type": "stream",
          "text": [
            "\r 47%|████▋     | 4402/9303 [1:53:30<4:06:45,  3.02s/it]"
          ]
        },
        {
          "name": "stdout",
          "output_type": "stream",
          "text": [
            "112274687401036105.xlsx is needed\n",
            "0 TES 3 FNC 3\n",
            "1 TES 3 FNC 3\n",
            "2 TES 3 FNC 3\n",
            "3 TES 3 FNC 3\n",
            "4 TES 3 FNC 3\n"
          ]
        },
        {
          "name": "stderr",
          "output_type": "stream",
          "text": [
            "\r 47%|████▋     | 4403/9303 [1:53:33<3:55:02,  2.88s/it]"
          ]
        },
        {
          "name": "stdout",
          "output_type": "stream",
          "text": [
            "112274705999884319.xlsx is needed\n",
            "0 BLG 3 GEN 3\n",
            "1 BLG 3 GEN 3\n",
            "2 BLG 3 GEN 3\n",
            "3 BLG 3 GEN 3\n",
            "4 BLG 3 GEN 3\n"
          ]
        },
        {
          "name": "stderr",
          "output_type": "stream",
          "text": [
            "\r 47%|████▋     | 4404/9303 [1:53:36<4:16:49,  3.15s/it]"
          ]
        },
        {
          "name": "stdout",
          "output_type": "stream",
          "text": [
            "112274687401036087.xlsx is needed\n",
            "0 PSG 3 EST 3\n",
            "1 PSG 3 EST 3\n",
            "2 PSG 3 EST 3\n",
            "3 PSG 3 EST 3\n",
            "4 PSG 3 EST 3\n"
          ]
        },
        {
          "name": "stderr",
          "output_type": "stream",
          "text": [
            "\r 47%|████▋     | 4405/9303 [1:53:40<4:26:23,  3.26s/it]"
          ]
        },
        {
          "name": "stdout",
          "output_type": "stream",
          "text": [
            "112274687401036088.xlsx is needed\n",
            "0 EST 3 PSG 3\n",
            "1 EST 3 PSG 3\n",
            "2 EST 3 PSG 3\n",
            "3 EST 3 PSG 3\n",
            "4 EST 3 PSG 3\n"
          ]
        },
        {
          "name": "stderr",
          "output_type": "stream",
          "text": [
            "\r 47%|████▋     | 4406/9303 [1:53:42<3:59:38,  2.94s/it]"
          ]
        },
        {
          "name": "stdout",
          "output_type": "stream",
          "text": [
            "112274705999884320.xlsx is needed\n",
            "0 BLG 3 GEN 3\n",
            "1 BLG 3 GEN 3\n",
            "2 BLG 3 GEN 3\n",
            "3 BLG 3 GEN 3\n",
            "4 BLG 3 GEN 3\n"
          ]
        },
        {
          "name": "stderr",
          "output_type": "stream",
          "text": [
            "\r 47%|████▋     | 4407/9303 [1:53:45<4:13:03,  3.10s/it]"
          ]
        },
        {
          "name": "stdout",
          "output_type": "stream",
          "text": [
            "112274687401036107.xlsx is needed\n",
            "0 LLL 3 GAM 3\n",
            "1 LLL 3 GAM 3\n",
            "2 LLL 3 GAM 3\n",
            "3 LLL 3 GAM 3\n",
            "4 LLL 3 GAM 3\n"
          ]
        },
        {
          "name": "stderr",
          "output_type": "stream",
          "text": [
            "\r 47%|████▋     | 4408/9303 [1:53:48<3:54:48,  2.88s/it]"
          ]
        },
        {
          "name": "stdout",
          "output_type": "stream",
          "text": [
            "112274705999884313.xlsx is needed\n",
            "0 PSG 3 G2 2\n",
            "1 PSG 3 G2 2\n",
            "2 PSG 3 G2 2\n",
            "3 PSG 3 G2 2\n",
            "4 PSG 3 G2 2\n"
          ]
        },
        {
          "name": "stderr",
          "output_type": "stream",
          "text": [
            "\r 47%|████▋     | 4409/9303 [1:53:52<4:22:37,  3.22s/it]"
          ]
        },
        {
          "name": "stdout",
          "output_type": "stream",
          "text": [
            "112274687401036108.xlsx is needed\n",
            "0 LLL 3 GAM 3\n",
            "1 LLL 3 GAM 3\n",
            "2 LLL 3 GAM 3\n",
            "3 LLL 3 GAM 3\n",
            "4 LLL 3 GAM 3\n"
          ]
        },
        {
          "name": "stderr",
          "output_type": "stream",
          "text": [
            "\r 47%|████▋     | 4410/9303 [1:53:55<4:31:59,  3.34s/it]"
          ]
        },
        {
          "name": "stdout",
          "output_type": "stream",
          "text": [
            "112274687401036109.xlsx is needed\n",
            "0 LLL 3 GAM 3\n",
            "1 LLL 3 GAM 3\n",
            "2 LLL 3 GAM 3\n",
            "3 LLL 3 GAM 3\n",
            "4 LLL 3 GAM 3\n"
          ]
        },
        {
          "name": "stderr",
          "output_type": "stream",
          "text": [
            "\r 47%|████▋     | 4411/9303 [1:53:59<4:33:57,  3.36s/it]"
          ]
        },
        {
          "name": "stdout",
          "output_type": "stream",
          "text": [
            "112274705999884335.xlsx is needed\n",
            "0 T1 2 G2 2\n",
            "1 T1 2 G2 2\n",
            "2 T1 2 G2 2\n",
            "3 T1 2 G2 2\n",
            "4 T1 2 G2 2\n"
          ]
        },
        {
          "name": "stderr",
          "output_type": "stream",
          "text": [
            "\r 47%|████▋     | 4412/9303 [1:54:01<4:09:56,  3.07s/it]"
          ]
        },
        {
          "name": "stdout",
          "output_type": "stream",
          "text": [
            "112274705999884336.xlsx is needed\n",
            "0 G2 2 T1 2\n",
            "1 G2 2 T1 2\n",
            "2 G2 2 T1 2\n",
            "3 G2 2 T1 2\n",
            "4 G2 2 T1 2\n"
          ]
        },
        {
          "name": "stderr",
          "output_type": "stream",
          "text": [
            "\r 47%|████▋     | 4413/9303 [1:54:06<4:49:05,  3.55s/it]"
          ]
        },
        {
          "name": "stdout",
          "output_type": "stream",
          "text": [
            "112274705999884337.xlsx is needed\n",
            "0 G2 2 T1 2\n",
            "1 G2 2 T1 2\n",
            "2 G2 2 T1 2\n",
            "3 G2 2 T1 2\n",
            "4 G2 2 T1 2\n"
          ]
        },
        {
          "name": "stderr",
          "output_type": "stream",
          "text": [
            "\r 47%|████▋     | 4414/9303 [1:54:09<4:37:05,  3.40s/it]"
          ]
        },
        {
          "name": "stdout",
          "output_type": "stream",
          "text": [
            "112274687401036092.xlsx is needed\n",
            "0 FLY 3 PSG 3\n",
            "1 FLY 3 PSG 3\n",
            "2 FLY 3 PSG 3\n",
            "3 FLY 3 PSG 3\n",
            "4 FLY 3 PSG 3\n"
          ]
        },
        {
          "name": "stderr",
          "output_type": "stream",
          "text": [
            "\r 47%|████▋     | 4415/9303 [1:54:12<4:16:24,  3.15s/it]"
          ]
        },
        {
          "name": "stdout",
          "output_type": "stream",
          "text": [
            "112274687401036091.xlsx is needed\n",
            "0 FLY 3 PSG 3\n",
            "1 FLY 3 PSG 3\n",
            "2 FLY 3 PSG 3\n",
            "3 FLY 3 PSG 3\n",
            "4 FLY 3 PSG 3\n"
          ]
        },
        {
          "name": "stderr",
          "output_type": "stream",
          "text": [
            " 47%|████▋     | 4417/9303 [1:54:16<3:29:00,  2.57s/it]"
          ]
        },
        {
          "name": "stdout",
          "output_type": "stream",
          "text": [
            "112274687401036111.xlsx is needed\n",
            "0 FNC 3 GAM 3\n",
            "1 FNC 3 GAM 3\n",
            "2 FNC 3 GAM 3\n",
            "3 FNC 3 GAM 3\n",
            "4 FNC 3 GAM 3\n"
          ]
        },
        {
          "name": "stderr",
          "output_type": "stream",
          "text": [
            " 48%|████▊     | 4419/9303 [1:54:23<3:59:20,  2.94s/it]"
          ]
        },
        {
          "name": "stdout",
          "output_type": "stream",
          "text": [
            "112274687401036112.xlsx is needed\n",
            "0 FNC 3 GAM 3\n",
            "1 FNC 3 GAM 3\n",
            "2 FNC 3 GAM 3\n",
            "3 FNC 3 GAM 3\n",
            "4 FNC 3 GAM 3\n"
          ]
        },
        {
          "name": "stderr",
          "output_type": "stream",
          "text": [
            " 48%|████▊     | 4422/9303 [1:54:29<3:09:01,  2.32s/it]"
          ]
        },
        {
          "name": "stdout",
          "output_type": "stream",
          "text": [
            "112274705999818733.xlsx is needed\n",
            "0 TL 2 TES 3\n",
            "1 TL 2 TES 3\n",
            "2 TL 2 TES 3\n",
            "3 TL 2 TES 3\n",
            "4 TL 2 TES 3\n"
          ]
        },
        {
          "name": "stderr",
          "output_type": "stream",
          "text": [
            " 48%|████▊     | 4424/9303 [1:54:35<3:13:51,  2.38s/it]"
          ]
        },
        {
          "name": "stdout",
          "output_type": "stream",
          "text": [
            "112274705999818734.xlsx is needed\n",
            "0 TES 3 TL 2\n",
            "1 TES 3 TL 2\n",
            "2 TES 3 TL 2\n",
            "3 TES 3 TL 2\n",
            "4 TES 3 TL 2\n"
          ]
        },
        {
          "name": "stderr",
          "output_type": "stream",
          "text": [
            "\r 48%|████▊     | 4425/9303 [1:54:37<3:15:29,  2.40s/it]"
          ]
        },
        {
          "name": "stdout",
          "output_type": "stream",
          "text": [
            "112274705999884295.xlsx is needed\n",
            "0 TES 3 GEN 3\n",
            "1 TES 3 GEN 3\n",
            "2 TES 3 GEN 3\n",
            "3 TES 3 GEN 3\n",
            "4 TES 3 GEN 3\n"
          ]
        },
        {
          "name": "stderr",
          "output_type": "stream",
          "text": [
            " 48%|████▊     | 4430/9303 [1:54:47<2:44:21,  2.02s/it]"
          ]
        },
        {
          "name": "stdout",
          "output_type": "stream",
          "text": [
            "112274705999884297.xlsx is needed\n",
            "0 GEN 3 TES 3\n",
            "1 GEN 3 TES 3\n",
            "2 GEN 3 TES 3\n",
            "3 GEN 3 TES 3\n",
            "4 GEN 3 TES 3\n"
          ]
        },
        {
          "name": "stderr",
          "output_type": "stream",
          "text": [
            " 48%|████▊     | 4432/9303 [1:54:51<2:37:07,  1.94s/it]"
          ]
        },
        {
          "name": "stdout",
          "output_type": "stream",
          "text": [
            "112274705999884296.xlsx is needed\n",
            "0 GEN 3 TES 3\n",
            "1 GEN 3 TES 3\n",
            "2 GEN 3 TES 3\n",
            "3 GEN 3 TES 3\n",
            "4 GEN 3 TES 3\n"
          ]
        },
        {
          "name": "stderr",
          "output_type": "stream",
          "text": [
            "\r 48%|████▊     | 4433/9303 [1:54:53<2:49:35,  2.09s/it]"
          ]
        },
        {
          "name": "stdout",
          "output_type": "stream",
          "text": [
            "112274705999884311.xlsx is needed\n",
            "0 G2 2 PSG 3\n",
            "1 G2 2 PSG 3\n",
            "2 G2 2 PSG 3\n",
            "3 G2 2 PSG 3\n",
            "4 G2 2 PSG 3\n"
          ]
        },
        {
          "name": "stderr",
          "output_type": "stream",
          "text": [
            "\r 48%|████▊     | 4434/9303 [1:54:56<3:06:46,  2.30s/it]"
          ]
        },
        {
          "name": "stdout",
          "output_type": "stream",
          "text": [
            "112274705999884294.xlsx is needed\n",
            "0 TES 3 GEN 3\n",
            "1 TES 3 GEN 3\n",
            "2 TES 3 GEN 3\n",
            "3 TES 3 GEN 3\n",
            "4 TES 3 GEN 3\n"
          ]
        },
        {
          "name": "stderr",
          "output_type": "stream",
          "text": [
            " 48%|████▊     | 4446/9303 [1:55:15<2:14:13,  1.66s/it]"
          ]
        },
        {
          "name": "stdout",
          "output_type": "stream",
          "text": [
            "112274705999818745.xlsx is needed\n",
            "0 BLG 3 PSG 3\n",
            "1 BLG 3 PSG 3\n",
            "2 BLG 3 PSG 3\n",
            "3 BLG 3 PSG 3\n",
            "4 BLG 3 PSG 3\n"
          ]
        },
        {
          "name": "stderr",
          "output_type": "stream",
          "text": [
            "\r 48%|████▊     | 4447/9303 [1:55:17<2:34:13,  1.91s/it]"
          ]
        },
        {
          "name": "stdout",
          "output_type": "stream",
          "text": [
            "112274705999818746.xlsx is needed\n",
            "0 BLG 3 PSG 3\n",
            "1 BLG 3 PSG 3\n",
            "2 BLG 3 PSG 3\n",
            "3 BLG 3 PSG 3\n",
            "4 BLG 3 PSG 3\n"
          ]
        },
        {
          "name": "stderr",
          "output_type": "stream",
          "text": [
            " 48%|████▊     | 4450/9303 [1:55:23<2:24:12,  1.78s/it]"
          ]
        },
        {
          "name": "stdout",
          "output_type": "stream",
          "text": [
            "112274705999818747.xlsx is needed\n",
            "0 BLG 3 PSG 3\n",
            "1 BLG 3 PSG 3\n",
            "2 BLG 3 PSG 3\n",
            "3 BLG 3 PSG 3\n",
            "4 BLG 3 PSG 3\n"
          ]
        },
        {
          "name": "stderr",
          "output_type": "stream",
          "text": [
            " 48%|████▊     | 4452/9303 [1:55:28<3:00:11,  2.23s/it]"
          ]
        },
        {
          "name": "stdout",
          "output_type": "stream",
          "text": [
            "112274705999818748.xlsx is needed\n",
            "0 PSG 3 BLG 3\n",
            "1 PSG 3 BLG 3\n",
            "2 PSG 3 BLG 3\n",
            "3 PSG 3 BLG 3\n",
            "4 PSG 3 BLG 3\n"
          ]
        },
        {
          "name": "stderr",
          "output_type": "stream",
          "text": [
            " 48%|████▊     | 4454/9303 [1:55:32<2:49:49,  2.10s/it]"
          ]
        },
        {
          "name": "stdout",
          "output_type": "stream",
          "text": [
            "112274705999818749.xlsx is needed\n",
            "0 BLG 3 PSG 3\n",
            "1 BLG 3 PSG 3\n",
            "2 BLG 3 PSG 3\n",
            "3 BLG 3 PSG 3\n",
            "4 BLG 3 PSG 3\n"
          ]
        },
        {
          "name": "stderr",
          "output_type": "stream",
          "text": [
            " 48%|████▊     | 4457/9303 [1:55:38<2:32:38,  1.89s/it]"
          ]
        },
        {
          "name": "stdout",
          "output_type": "stream",
          "text": [
            "112274705999818752.xlsx is needed\n",
            "0 G2 2 T1 2\n",
            "1 G2 2 T1 2\n",
            "2 G2 2 T1 2\n",
            "3 G2 2 T1 2\n",
            "4 G2 2 T1 2\n"
          ]
        },
        {
          "name": "stderr",
          "output_type": "stream",
          "text": [
            "\r 48%|████▊     | 4458/9303 [1:55:42<3:22:55,  2.51s/it]"
          ]
        },
        {
          "name": "stdout",
          "output_type": "stream",
          "text": [
            "112274705999818751.xlsx is needed\n",
            "0 G2 2 T1 2\n",
            "1 G2 2 T1 2\n",
            "2 G2 2 T1 2\n",
            "3 G2 2 T1 2\n",
            "4 G2 2 T1 2\n"
          ]
        },
        {
          "name": "stderr",
          "output_type": "stream",
          "text": [
            "\r 48%|████▊     | 4459/9303 [1:55:45<3:40:24,  2.73s/it]"
          ]
        },
        {
          "name": "stdout",
          "output_type": "stream",
          "text": [
            "112274705999884289.xlsx is needed\n",
            "0 T1 2 G2 2\n",
            "1 T1 2 G2 2\n",
            "2 T1 2 G2 2\n",
            "3 T1 2 G2 2\n",
            "4 T1 2 G2 2\n"
          ]
        },
        {
          "name": "stderr",
          "output_type": "stream",
          "text": [
            " 48%|████▊     | 4462/9303 [1:55:50<2:39:16,  1.97s/it]"
          ]
        },
        {
          "name": "stdout",
          "output_type": "stream",
          "text": [
            "112274705999884290.xlsx is needed\n",
            "0 T1 2 G2 2\n",
            "1 T1 2 G2 2\n",
            "2 T1 2 G2 2\n",
            "3 T1 2 G2 2\n",
            "4 T1 2 G2 2\n"
          ]
        },
        {
          "name": "stderr",
          "output_type": "stream",
          "text": [
            " 48%|████▊     | 4465/9303 [1:55:57<2:41:13,  2.00s/it]"
          ]
        },
        {
          "name": "stdout",
          "output_type": "stream",
          "text": [
            "112274705999884291.xlsx is needed\n",
            "0 G2 2 T1 2\n",
            "1 G2 2 T1 2\n",
            "2 G2 2 T1 2\n",
            "3 G2 2 T1 2\n",
            "4 G2 2 T1 2\n"
          ]
        },
        {
          "name": "stderr",
          "output_type": "stream",
          "text": [
            " 48%|████▊     | 4468/9303 [1:56:01<2:04:55,  1.55s/it]"
          ]
        },
        {
          "name": "stdout",
          "output_type": "stream",
          "text": [
            "112274705999884306.xlsx is needed\n",
            "0 FNC 3 TL 2\n",
            "1 FNC 3 TL 2\n",
            "2 FNC 3 TL 2\n",
            "3 FNC 3 TL 2\n",
            "4 FNC 3 TL 2\n"
          ]
        },
        {
          "name": "stderr",
          "output_type": "stream",
          "text": [
            "\r 48%|████▊     | 4469/9303 [1:56:04<2:25:41,  1.81s/it]"
          ]
        },
        {
          "name": "stdout",
          "output_type": "stream",
          "text": [
            "112274705999884307.xlsx is needed\n",
            "0 TL 2 FNC 3\n",
            "1 TL 2 FNC 3\n",
            "2 TL 2 FNC 3\n",
            "3 TL 2 FNC 3\n",
            "4 TL 2 FNC 3\n"
          ]
        },
        {
          "name": "stderr",
          "output_type": "stream",
          "text": [
            " 48%|████▊     | 4472/9303 [1:56:11<2:46:36,  2.07s/it]"
          ]
        },
        {
          "name": "stdout",
          "output_type": "stream",
          "text": [
            "112274705999884308.xlsx is needed\n",
            "0 FNC 3 TL 2\n",
            "1 FNC 3 TL 2\n",
            "2 FNC 3 TL 2\n",
            "3 FNC 3 TL 2\n",
            "4 FNC 3 TL 2\n"
          ]
        },
        {
          "name": "stderr",
          "output_type": "stream",
          "text": [
            " 48%|████▊     | 4474/9303 [1:56:15<2:46:24,  2.07s/it]"
          ]
        },
        {
          "name": "stdout",
          "output_type": "stream",
          "text": [
            "112274705999884312.xlsx is needed\n",
            "0 G2 2 PSG 3\n",
            "1 G2 2 PSG 3\n",
            "2 G2 2 PSG 3\n",
            "3 G2 2 PSG 3\n",
            "4 G2 2 PSG 3\n"
          ]
        },
        {
          "name": "stderr",
          "output_type": "stream",
          "text": [
            "\r 48%|████▊     | 4475/9303 [1:56:17<2:44:04,  2.04s/it]"
          ]
        },
        {
          "name": "stdout",
          "output_type": "stream",
          "text": [
            "112274705999884293.xlsx is needed\n",
            "0 GEN 3 TES 3\n",
            "1 GEN 3 TES 3\n",
            "2 GEN 3 TES 3\n",
            "3 GEN 3 TES 3\n",
            "4 GEN 3 TES 3\n"
          ]
        },
        {
          "name": "stderr",
          "output_type": "stream",
          "text": [
            "100%|██████████| 9303/9303 [3:54:22<00:00,  1.51s/it]"
          ]
        },
        {
          "name": "stdout",
          "output_type": "stream",
          "text": [
            "77 files is fixed!\n"
          ]
        },
        {
          "name": "stderr",
          "output_type": "stream",
          "text": [
            "\n"
          ]
        }
      ],
      "source": [
        "PARTICIPANTS_NUMBER_OF_A_TEAM = 5\n",
        "\n",
        "count = 0\n",
        "\n",
        "for file in tqdm(file_list):\n",
        "  blueSummonerNames = []\n",
        "  redSummonerNames = []\n",
        "  needed = True\n",
        "  if file.find(\"_invalid\") == -1 and file.find(\".xlsx\") != -1:\n",
        "    df = pd.read_excel(COLLECTED_DATA_PATH + file)\n",
        "    df = df.astype({\"esportsTeamId_Blue\":\"str\", \"esportsTeamId_Red\":\"str\", \"esportsPlayerId_0\":\"str\", \"esportsPlayerId_1\":\"str\", \"esportsPlayerId_2\":\"str\", \"esportsPlayerId_3\":\"str\", \"esportsPlayerId_4\":\"str\", \"esportsPlayerId_5\":\"str\", \"esportsPlayerId_6\":\"str\", \"esportsPlayerId_7\":\"str\", \"esportsPlayerId_8\":\"str\", \"esportsPlayerId_9\":\"str\"})\n",
        "\n",
        "    for i in range(PARTICIPANTS_NUMBER_OF_A_TEAM):\n",
        "      blueteam = str(df.at[0, f\"teamCode_{i}\"])\n",
        "      bluename = str(df.at[0, f\"summonerName_{i}\"])\n",
        "      redteam = str(df.at[0, f\"teamCode_{i + PARTICIPANTS_NUMBER_OF_A_TEAM}\"])\n",
        "      redname = str(df.at[0, f\"summonerName_{i+PARTICIPANTS_NUMBER_OF_A_TEAM}\"])\n",
        "      if len(blueteam) == 0 or len(bluename) == 0 or len(redteam) == 0 or len(redname) == 0:    # 플레이어 이름이 숫자라 int64타입으로 오는 녀석도 있음 (i.e. 500 걍 이름이 500임)\n",
        "        needed = False\n",
        "        continue\n",
        "      if blueteam != bluename[:-1]: needed = False\n",
        "      blueSummonerNames.append(bluename)\n",
        "\n",
        "      if redteam != redname[:-1]: needed = False\n",
        "      redSummonerNames.append(redname)\n",
        "\n",
        "    if needed == True:\n",
        "      count += 1\n",
        "      print(file, \"is needed\")\n",
        "      blueteamName, blueteamWhere = find_common_prefix(blueSummonerNames)\n",
        "      redteamName, redteamWhere = find_common_prefix(redSummonerNames)\n",
        "\n",
        "      for i in range(PARTICIPANTS_NUMBER_OF_A_TEAM):\n",
        "        if blueteamWhere > 0:\n",
        "          df[f\"teamCode_{i}\"] = blueteamName\n",
        "          df[f\"summonerName_{i}\"] = df[f\"summonerName_{i}\"].apply(lambda x : x[redteamWhere:])\n",
        "        if redteamWhere > 0:\n",
        "          df[f\"teamCode_{i+PARTICIPANTS_NUMBER_OF_A_TEAM}\"] = redteamName\n",
        "          df[f\"summonerName_{i+PARTICIPANTS_NUMBER_OF_A_TEAM}\"] = df[f\"summonerName_{i+PARTICIPANTS_NUMBER_OF_A_TEAM}\"].apply(lambda x : x[redteamWhere:])\n",
        "      df.to_excel(COLLECTED_DATA_PATH + file)\n",
        "print(count, \"files is fixed!\")"
      ]
    }
  ],
  "metadata": {
    "colab": {
      "provenance": []
    },
    "kernelspec": {
      "display_name": "Python 3",
      "name": "python3"
    },
    "language_info": {
      "name": "python"
    }
  },
  "nbformat": 4,
  "nbformat_minor": 0
}
